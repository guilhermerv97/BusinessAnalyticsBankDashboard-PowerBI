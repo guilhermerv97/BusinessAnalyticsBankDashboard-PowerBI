{
 "cells": [
  {
   "cell_type": "code",
   "execution_count": 1,
   "id": "755a4d3e",
   "metadata": {},
   "outputs": [],
   "source": [
    "import pandas as pd"
   ]
  },
  {
   "cell_type": "code",
   "execution_count": 2,
   "id": "0a7dcbc3",
   "metadata": {},
   "outputs": [],
   "source": [
    "df_base = pd.read_csv(\"C:\\\\Users\\\\user-01\\\\Desktop\\\\case will bank\\\\Case_Bank_Customer.csv\")"
   ]
  },
  {
   "cell_type": "code",
   "execution_count": 3,
   "id": "64712c1f",
   "metadata": {},
   "outputs": [
    {
     "data": {
      "text/html": [
       "<div>\n",
       "<style scoped>\n",
       "    .dataframe tbody tr th:only-of-type {\n",
       "        vertical-align: middle;\n",
       "    }\n",
       "\n",
       "    .dataframe tbody tr th {\n",
       "        vertical-align: top;\n",
       "    }\n",
       "\n",
       "    .dataframe thead th {\n",
       "        text-align: right;\n",
       "    }\n",
       "</style>\n",
       "<table border=\"1\" class=\"dataframe\">\n",
       "  <thead>\n",
       "    <tr style=\"text-align: right;\">\n",
       "      <th></th>\n",
       "      <th>Unnamed: 0</th>\n",
       "      <th>customer_id</th>\n",
       "      <th>credit_score</th>\n",
       "      <th>tenure</th>\n",
       "      <th>products_number</th>\n",
       "      <th>credit_card</th>\n",
       "      <th>active_member</th>\n",
       "      <th>country</th>\n",
       "      <th>age</th>\n",
       "      <th>gender</th>\n",
       "      <th>balance</th>\n",
       "      <th>churn</th>\n",
       "      <th>estimated_salary</th>\n",
       "    </tr>\n",
       "  </thead>\n",
       "  <tbody>\n",
       "    <tr>\n",
       "      <th>0</th>\n",
       "      <td>0</td>\n",
       "      <td>15634602</td>\n",
       "      <td>619</td>\n",
       "      <td>2</td>\n",
       "      <td>1</td>\n",
       "      <td>1</td>\n",
       "      <td>1</td>\n",
       "      <td>France</td>\n",
       "      <td>42</td>\n",
       "      <td>NaN</td>\n",
       "      <td>0.00</td>\n",
       "      <td>1</td>\n",
       "      <td>0.0</td>\n",
       "    </tr>\n",
       "    <tr>\n",
       "      <th>1</th>\n",
       "      <td>1</td>\n",
       "      <td>15647311</td>\n",
       "      <td>608</td>\n",
       "      <td>1</td>\n",
       "      <td>1</td>\n",
       "      <td>0</td>\n",
       "      <td>1</td>\n",
       "      <td>Spain</td>\n",
       "      <td>41</td>\n",
       "      <td>Female</td>\n",
       "      <td>83807.86</td>\n",
       "      <td>0</td>\n",
       "      <td>0.0</td>\n",
       "    </tr>\n",
       "    <tr>\n",
       "      <th>2</th>\n",
       "      <td>2</td>\n",
       "      <td>15619304</td>\n",
       "      <td>502</td>\n",
       "      <td>8</td>\n",
       "      <td>3</td>\n",
       "      <td>1</td>\n",
       "      <td>0</td>\n",
       "      <td>France</td>\n",
       "      <td>42</td>\n",
       "      <td>Female</td>\n",
       "      <td>159660.80</td>\n",
       "      <td>1</td>\n",
       "      <td>0.0</td>\n",
       "    </tr>\n",
       "    <tr>\n",
       "      <th>3</th>\n",
       "      <td>3</td>\n",
       "      <td>15701354</td>\n",
       "      <td>699</td>\n",
       "      <td>1</td>\n",
       "      <td>2</td>\n",
       "      <td>0</td>\n",
       "      <td>0</td>\n",
       "      <td>France</td>\n",
       "      <td>39</td>\n",
       "      <td>Female</td>\n",
       "      <td>0.00</td>\n",
       "      <td>0</td>\n",
       "      <td>0.0</td>\n",
       "    </tr>\n",
       "    <tr>\n",
       "      <th>4</th>\n",
       "      <td>4</td>\n",
       "      <td>15737888</td>\n",
       "      <td>850</td>\n",
       "      <td>2</td>\n",
       "      <td>1</td>\n",
       "      <td>1</td>\n",
       "      <td>1</td>\n",
       "      <td>Spain</td>\n",
       "      <td>43</td>\n",
       "      <td>Female</td>\n",
       "      <td>125510.82</td>\n",
       "      <td>0</td>\n",
       "      <td>0.0</td>\n",
       "    </tr>\n",
       "  </tbody>\n",
       "</table>\n",
       "</div>"
      ],
      "text/plain": [
       "   Unnamed: 0  customer_id  credit_score  tenure  products_number  \\\n",
       "0           0     15634602           619       2                1   \n",
       "1           1     15647311           608       1                1   \n",
       "2           2     15619304           502       8                3   \n",
       "3           3     15701354           699       1                2   \n",
       "4           4     15737888           850       2                1   \n",
       "\n",
       "   credit_card  active_member country  age  gender    balance  churn  \\\n",
       "0            1              1  France   42     NaN       0.00      1   \n",
       "1            0              1   Spain   41  Female   83807.86      0   \n",
       "2            1              0  France   42  Female  159660.80      1   \n",
       "3            0              0  France   39  Female       0.00      0   \n",
       "4            1              1   Spain   43  Female  125510.82      0   \n",
       "\n",
       "   estimated_salary  \n",
       "0               0.0  \n",
       "1               0.0  \n",
       "2               0.0  \n",
       "3               0.0  \n",
       "4               0.0  "
      ]
     },
     "execution_count": 3,
     "metadata": {},
     "output_type": "execute_result"
    }
   ],
   "source": [
    "df_base.head()"
   ]
  },
  {
   "cell_type": "code",
   "execution_count": 4,
   "id": "04088639",
   "metadata": {},
   "outputs": [
    {
     "data": {
      "text/plain": [
       "(10000, 13)"
      ]
     },
     "execution_count": 4,
     "metadata": {},
     "output_type": "execute_result"
    }
   ],
   "source": [
    "df_base.shape"
   ]
  },
  {
   "cell_type": "code",
   "execution_count": 5,
   "id": "27d16d75",
   "metadata": {},
   "outputs": [],
   "source": [
    "df_dropcolumn = df_base.drop('Unnamed: 0', axis = 1)"
   ]
  },
  {
   "cell_type": "code",
   "execution_count": 6,
   "id": "96b39443",
   "metadata": {},
   "outputs": [
    {
     "data": {
      "text/html": [
       "<div>\n",
       "<style scoped>\n",
       "    .dataframe tbody tr th:only-of-type {\n",
       "        vertical-align: middle;\n",
       "    }\n",
       "\n",
       "    .dataframe tbody tr th {\n",
       "        vertical-align: top;\n",
       "    }\n",
       "\n",
       "    .dataframe thead th {\n",
       "        text-align: right;\n",
       "    }\n",
       "</style>\n",
       "<table border=\"1\" class=\"dataframe\">\n",
       "  <thead>\n",
       "    <tr style=\"text-align: right;\">\n",
       "      <th></th>\n",
       "      <th>customer_id</th>\n",
       "      <th>credit_score</th>\n",
       "      <th>tenure</th>\n",
       "      <th>products_number</th>\n",
       "      <th>credit_card</th>\n",
       "      <th>active_member</th>\n",
       "      <th>country</th>\n",
       "      <th>age</th>\n",
       "      <th>gender</th>\n",
       "      <th>balance</th>\n",
       "      <th>churn</th>\n",
       "      <th>estimated_salary</th>\n",
       "    </tr>\n",
       "  </thead>\n",
       "  <tbody>\n",
       "    <tr>\n",
       "      <th>0</th>\n",
       "      <td>15634602</td>\n",
       "      <td>619</td>\n",
       "      <td>2</td>\n",
       "      <td>1</td>\n",
       "      <td>1</td>\n",
       "      <td>1</td>\n",
       "      <td>France</td>\n",
       "      <td>42</td>\n",
       "      <td>NaN</td>\n",
       "      <td>0.00</td>\n",
       "      <td>1</td>\n",
       "      <td>0.0</td>\n",
       "    </tr>\n",
       "    <tr>\n",
       "      <th>1</th>\n",
       "      <td>15647311</td>\n",
       "      <td>608</td>\n",
       "      <td>1</td>\n",
       "      <td>1</td>\n",
       "      <td>0</td>\n",
       "      <td>1</td>\n",
       "      <td>Spain</td>\n",
       "      <td>41</td>\n",
       "      <td>Female</td>\n",
       "      <td>83807.86</td>\n",
       "      <td>0</td>\n",
       "      <td>0.0</td>\n",
       "    </tr>\n",
       "    <tr>\n",
       "      <th>2</th>\n",
       "      <td>15619304</td>\n",
       "      <td>502</td>\n",
       "      <td>8</td>\n",
       "      <td>3</td>\n",
       "      <td>1</td>\n",
       "      <td>0</td>\n",
       "      <td>France</td>\n",
       "      <td>42</td>\n",
       "      <td>Female</td>\n",
       "      <td>159660.80</td>\n",
       "      <td>1</td>\n",
       "      <td>0.0</td>\n",
       "    </tr>\n",
       "    <tr>\n",
       "      <th>3</th>\n",
       "      <td>15701354</td>\n",
       "      <td>699</td>\n",
       "      <td>1</td>\n",
       "      <td>2</td>\n",
       "      <td>0</td>\n",
       "      <td>0</td>\n",
       "      <td>France</td>\n",
       "      <td>39</td>\n",
       "      <td>Female</td>\n",
       "      <td>0.00</td>\n",
       "      <td>0</td>\n",
       "      <td>0.0</td>\n",
       "    </tr>\n",
       "    <tr>\n",
       "      <th>4</th>\n",
       "      <td>15737888</td>\n",
       "      <td>850</td>\n",
       "      <td>2</td>\n",
       "      <td>1</td>\n",
       "      <td>1</td>\n",
       "      <td>1</td>\n",
       "      <td>Spain</td>\n",
       "      <td>43</td>\n",
       "      <td>Female</td>\n",
       "      <td>125510.82</td>\n",
       "      <td>0</td>\n",
       "      <td>0.0</td>\n",
       "    </tr>\n",
       "  </tbody>\n",
       "</table>\n",
       "</div>"
      ],
      "text/plain": [
       "   customer_id  credit_score  tenure  products_number  credit_card  \\\n",
       "0     15634602           619       2                1            1   \n",
       "1     15647311           608       1                1            0   \n",
       "2     15619304           502       8                3            1   \n",
       "3     15701354           699       1                2            0   \n",
       "4     15737888           850       2                1            1   \n",
       "\n",
       "   active_member country  age  gender    balance  churn  estimated_salary  \n",
       "0              1  France   42     NaN       0.00      1               0.0  \n",
       "1              1   Spain   41  Female   83807.86      0               0.0  \n",
       "2              0  France   42  Female  159660.80      1               0.0  \n",
       "3              0  France   39  Female       0.00      0               0.0  \n",
       "4              1   Spain   43  Female  125510.82      0               0.0  "
      ]
     },
     "execution_count": 6,
     "metadata": {},
     "output_type": "execute_result"
    }
   ],
   "source": [
    "df_dropcolumn.head()"
   ]
  },
  {
   "cell_type": "code",
   "execution_count": 7,
   "id": "36153e06",
   "metadata": {},
   "outputs": [
    {
     "data": {
      "text/plain": [
       "(10000, 12)"
      ]
     },
     "execution_count": 7,
     "metadata": {},
     "output_type": "execute_result"
    }
   ],
   "source": [
    "df_dropcolumn.shape"
   ]
  },
  {
   "cell_type": "code",
   "execution_count": 8,
   "id": "35820d06",
   "metadata": {},
   "outputs": [
    {
     "data": {
      "text/plain": [
       "customer_id           0\n",
       "credit_score          0\n",
       "tenure                0\n",
       "products_number       0\n",
       "credit_card           0\n",
       "active_member         0\n",
       "country               0\n",
       "age                   0\n",
       "gender              520\n",
       "balance               0\n",
       "churn                 0\n",
       "estimated_salary      0\n",
       "dtype: int64"
      ]
     },
     "execution_count": 8,
     "metadata": {},
     "output_type": "execute_result"
    }
   ],
   "source": [
    "df_dropcolumn.isna().sum()"
   ]
  },
  {
   "cell_type": "code",
   "execution_count": 9,
   "id": "dfb68bec",
   "metadata": {},
   "outputs": [],
   "source": [
    "df_dropna = df_dropcolumn.dropna()"
   ]
  },
  {
   "cell_type": "code",
   "execution_count": 10,
   "id": "5850632b",
   "metadata": {},
   "outputs": [
    {
     "data": {
      "text/html": [
       "<div>\n",
       "<style scoped>\n",
       "    .dataframe tbody tr th:only-of-type {\n",
       "        vertical-align: middle;\n",
       "    }\n",
       "\n",
       "    .dataframe tbody tr th {\n",
       "        vertical-align: top;\n",
       "    }\n",
       "\n",
       "    .dataframe thead th {\n",
       "        text-align: right;\n",
       "    }\n",
       "</style>\n",
       "<table border=\"1\" class=\"dataframe\">\n",
       "  <thead>\n",
       "    <tr style=\"text-align: right;\">\n",
       "      <th></th>\n",
       "      <th>customer_id</th>\n",
       "      <th>credit_score</th>\n",
       "      <th>tenure</th>\n",
       "      <th>products_number</th>\n",
       "      <th>credit_card</th>\n",
       "      <th>active_member</th>\n",
       "      <th>country</th>\n",
       "      <th>age</th>\n",
       "      <th>gender</th>\n",
       "      <th>balance</th>\n",
       "      <th>churn</th>\n",
       "      <th>estimated_salary</th>\n",
       "    </tr>\n",
       "  </thead>\n",
       "  <tbody>\n",
       "    <tr>\n",
       "      <th>1</th>\n",
       "      <td>15647311</td>\n",
       "      <td>608</td>\n",
       "      <td>1</td>\n",
       "      <td>1</td>\n",
       "      <td>0</td>\n",
       "      <td>1</td>\n",
       "      <td>Spain</td>\n",
       "      <td>41</td>\n",
       "      <td>Female</td>\n",
       "      <td>83807.86</td>\n",
       "      <td>0</td>\n",
       "      <td>0.0</td>\n",
       "    </tr>\n",
       "    <tr>\n",
       "      <th>2</th>\n",
       "      <td>15619304</td>\n",
       "      <td>502</td>\n",
       "      <td>8</td>\n",
       "      <td>3</td>\n",
       "      <td>1</td>\n",
       "      <td>0</td>\n",
       "      <td>France</td>\n",
       "      <td>42</td>\n",
       "      <td>Female</td>\n",
       "      <td>159660.80</td>\n",
       "      <td>1</td>\n",
       "      <td>0.0</td>\n",
       "    </tr>\n",
       "    <tr>\n",
       "      <th>3</th>\n",
       "      <td>15701354</td>\n",
       "      <td>699</td>\n",
       "      <td>1</td>\n",
       "      <td>2</td>\n",
       "      <td>0</td>\n",
       "      <td>0</td>\n",
       "      <td>France</td>\n",
       "      <td>39</td>\n",
       "      <td>Female</td>\n",
       "      <td>0.00</td>\n",
       "      <td>0</td>\n",
       "      <td>0.0</td>\n",
       "    </tr>\n",
       "    <tr>\n",
       "      <th>4</th>\n",
       "      <td>15737888</td>\n",
       "      <td>850</td>\n",
       "      <td>2</td>\n",
       "      <td>1</td>\n",
       "      <td>1</td>\n",
       "      <td>1</td>\n",
       "      <td>Spain</td>\n",
       "      <td>43</td>\n",
       "      <td>Female</td>\n",
       "      <td>125510.82</td>\n",
       "      <td>0</td>\n",
       "      <td>0.0</td>\n",
       "    </tr>\n",
       "    <tr>\n",
       "      <th>5</th>\n",
       "      <td>15574012</td>\n",
       "      <td>645</td>\n",
       "      <td>8</td>\n",
       "      <td>2</td>\n",
       "      <td>1</td>\n",
       "      <td>0</td>\n",
       "      <td>Spain</td>\n",
       "      <td>44</td>\n",
       "      <td>Male</td>\n",
       "      <td>113755.78</td>\n",
       "      <td>1</td>\n",
       "      <td>0.0</td>\n",
       "    </tr>\n",
       "  </tbody>\n",
       "</table>\n",
       "</div>"
      ],
      "text/plain": [
       "   customer_id  credit_score  tenure  products_number  credit_card  \\\n",
       "1     15647311           608       1                1            0   \n",
       "2     15619304           502       8                3            1   \n",
       "3     15701354           699       1                2            0   \n",
       "4     15737888           850       2                1            1   \n",
       "5     15574012           645       8                2            1   \n",
       "\n",
       "   active_member country  age  gender    balance  churn  estimated_salary  \n",
       "1              1   Spain   41  Female   83807.86      0               0.0  \n",
       "2              0  France   42  Female  159660.80      1               0.0  \n",
       "3              0  France   39  Female       0.00      0               0.0  \n",
       "4              1   Spain   43  Female  125510.82      0               0.0  \n",
       "5              0   Spain   44    Male  113755.78      1               0.0  "
      ]
     },
     "execution_count": 10,
     "metadata": {},
     "output_type": "execute_result"
    }
   ],
   "source": [
    "df_dropna.head()"
   ]
  },
  {
   "cell_type": "code",
   "execution_count": 11,
   "id": "ab24b94b",
   "metadata": {},
   "outputs": [
    {
     "data": {
      "text/plain": [
       "(9480, 12)"
      ]
     },
     "execution_count": 11,
     "metadata": {},
     "output_type": "execute_result"
    }
   ],
   "source": [
    "df_dropna.shape"
   ]
  },
  {
   "cell_type": "code",
   "execution_count": 12,
   "id": "24623692",
   "metadata": {},
   "outputs": [
    {
     "data": {
      "text/plain": [
       "Male      0.5167\n",
       "Female    0.4313\n",
       "NaN       0.0520\n",
       "Name: gender, dtype: float64"
      ]
     },
     "execution_count": 12,
     "metadata": {},
     "output_type": "execute_result"
    }
   ],
   "source": [
    "df_dropcolumn['gender'].value_counts(normalize = True, dropna = False)"
   ]
  },
  {
   "cell_type": "code",
   "execution_count": 13,
   "id": "0d82b16b",
   "metadata": {},
   "outputs": [
    {
     "data": {
      "text/plain": [
       "Male      0.545042\n",
       "Female    0.454958\n",
       "Name: gender, dtype: float64"
      ]
     },
     "execution_count": 13,
     "metadata": {},
     "output_type": "execute_result"
    }
   ],
   "source": [
    "df_dropna['gender'].value_counts(normalize = True)"
   ]
  },
  {
   "cell_type": "code",
   "execution_count": 14,
   "id": "c841d888",
   "metadata": {},
   "outputs": [
    {
     "data": {
      "text/plain": [
       "1    6687\n",
       "0    2793\n",
       "Name: credit_card, dtype: int64"
      ]
     },
     "execution_count": 14,
     "metadata": {},
     "output_type": "execute_result"
    }
   ],
   "source": [
    "df_dropna['credit_card'].value_counts()"
   ]
  },
  {
   "cell_type": "code",
   "execution_count": 15,
   "id": "a3160351",
   "metadata": {},
   "outputs": [
    {
     "data": {
      "text/plain": [
       "1    4897\n",
       "0    4583\n",
       "Name: active_member, dtype: int64"
      ]
     },
     "execution_count": 15,
     "metadata": {},
     "output_type": "execute_result"
    }
   ],
   "source": [
    "df_dropna['active_member'].value_counts()"
   ]
  },
  {
   "cell_type": "code",
   "execution_count": 16,
   "id": "f7fc3ed7",
   "metadata": {},
   "outputs": [
    {
     "data": {
      "text/plain": [
       "0    7459\n",
       "1    2021\n",
       "Name: churn, dtype: int64"
      ]
     },
     "execution_count": 16,
     "metadata": {},
     "output_type": "execute_result"
    }
   ],
   "source": [
    "df_dropna['churn'].value_counts()"
   ]
  },
  {
   "cell_type": "code",
   "execution_count": 17,
   "id": "abc377cf",
   "metadata": {},
   "outputs": [
    {
     "data": {
      "text/plain": [
       "37     451\n",
       "38     445\n",
       "35     443\n",
       "36     423\n",
       "40     413\n",
       "      ... \n",
       "85       1\n",
       "254      1\n",
       "88       1\n",
       "82       1\n",
       "273      1\n",
       "Name: age, Length: 118, dtype: int64"
      ]
     },
     "execution_count": 17,
     "metadata": {},
     "output_type": "execute_result"
    }
   ],
   "source": [
    "df_dropna['age'].value_counts()"
   ]
  },
  {
   "cell_type": "code",
   "execution_count": 18,
   "id": "37f469af",
   "metadata": {},
   "outputs": [
    {
     "data": {
      "text/plain": [
       "array([ 41,  42,  39,  43,  44,  50,  29,  27,  31,  24,  34,  25,  35,\n",
       "        45,  58,  32,  38,  46,  36, 282,  33,  40,  51,  61,  49,  37,\n",
       "        19,  66,  56,  26,  21, 265,  55,  75,  22,  30,  28,  65,  48,\n",
       "        52,  57,  73, 278, 288,  47,  54,  72,  20,  67,  79,  62,  53,\n",
       "       254, 270,  80,  59, 274,  68,  23,  60, 259, 298, 256, 267,  70,\n",
       "        63, 253,  64, 287,  18,  82,  69, 272, 290,  74, 280, 250,  71,\n",
       "       279, 268,  76, 257, 294,  77, 283, 262, 289, 263, 255, 251, 271,\n",
       "       297, 258,  88, 296, 260, 264, 286, 292,  85, 291,  84, 281, 293,\n",
       "       269, 277,  78,  81, 295, 252, 284, 276, 261,  92, 285, 275,  83,\n",
       "       273], dtype=int64)"
      ]
     },
     "execution_count": 18,
     "metadata": {},
     "output_type": "execute_result"
    }
   ],
   "source": [
    "df_dropna['age'].unique()"
   ]
  },
  {
   "cell_type": "code",
   "execution_count": 19,
   "id": "4eb8c010",
   "metadata": {},
   "outputs": [],
   "source": [
    "df_age = df_dropna[df_dropna['age'] <= 200]"
   ]
  },
  {
   "cell_type": "code",
   "execution_count": 20,
   "id": "b73180af",
   "metadata": {},
   "outputs": [
    {
     "data": {
      "text/plain": [
       "37    451\n",
       "38    445\n",
       "35    443\n",
       "36    423\n",
       "40    413\n",
       "     ... \n",
       "92      2\n",
       "82      1\n",
       "88      1\n",
       "85      1\n",
       "83      1\n",
       "Name: age, Length: 70, dtype: int64"
      ]
     },
     "execution_count": 20,
     "metadata": {},
     "output_type": "execute_result"
    }
   ],
   "source": [
    "df_age['age'].value_counts()"
   ]
  },
  {
   "cell_type": "code",
   "execution_count": 21,
   "id": "84aee861",
   "metadata": {},
   "outputs": [
    {
     "data": {
      "text/plain": [
       "array([41, 42, 39, 43, 44, 50, 29, 27, 31, 24, 34, 25, 35, 45, 58, 32, 38,\n",
       "       46, 36, 33, 40, 51, 61, 49, 37, 19, 66, 56, 26, 21, 55, 75, 22, 30,\n",
       "       28, 65, 48, 52, 57, 73, 47, 54, 72, 20, 67, 79, 62, 53, 80, 59, 68,\n",
       "       23, 60, 70, 63, 64, 18, 82, 69, 74, 71, 76, 77, 88, 85, 84, 78, 81,\n",
       "       92, 83], dtype=int64)"
      ]
     },
     "execution_count": 21,
     "metadata": {},
     "output_type": "execute_result"
    }
   ],
   "source": [
    "df_age['age'].unique()"
   ]
  },
  {
   "cell_type": "code",
   "execution_count": 22,
   "id": "d4ec8f6e",
   "metadata": {},
   "outputs": [
    {
     "data": {
      "text/plain": [
       "(9304, 12)"
      ]
     },
     "execution_count": 22,
     "metadata": {},
     "output_type": "execute_result"
    }
   ],
   "source": [
    "df_age.shape"
   ]
  },
  {
   "cell_type": "code",
   "execution_count": 23,
   "id": "4f28c96c",
   "metadata": {},
   "outputs": [
    {
     "data": {
      "text/plain": [
       "43.24810126582278"
      ]
     },
     "execution_count": 23,
     "metadata": {},
     "output_type": "execute_result"
    }
   ],
   "source": [
    "df_dropna['age'].mean()"
   ]
  },
  {
   "cell_type": "code",
   "execution_count": 24,
   "id": "43248db8",
   "metadata": {},
   "outputs": [
    {
     "data": {
      "text/plain": [
       "38.88725279449699"
      ]
     },
     "execution_count": 24,
     "metadata": {},
     "output_type": "execute_result"
    }
   ],
   "source": [
    "df_age['age'].mean()"
   ]
  },
  {
   "cell_type": "code",
   "execution_count": 25,
   "id": "16ba4763",
   "metadata": {},
   "outputs": [
    {
     "data": {
      "text/plain": [
       "France     4687\n",
       "Spain      2293\n",
       "Germany    1297\n",
       "German      761\n",
       "Grmany      266\n",
       "Name: country, dtype: int64"
      ]
     },
     "execution_count": 25,
     "metadata": {},
     "output_type": "execute_result"
    }
   ],
   "source": [
    "df_age['country'].value_counts()"
   ]
  },
  {
   "cell_type": "code",
   "execution_count": 26,
   "id": "3e9deebc",
   "metadata": {},
   "outputs": [],
   "source": [
    "df_country = df_age.replace(['German', 'Grmany'], 'Germany')"
   ]
  },
  {
   "cell_type": "code",
   "execution_count": 27,
   "id": "29a804dd",
   "metadata": {},
   "outputs": [
    {
     "data": {
      "text/plain": [
       "France     4687\n",
       "Germany    2324\n",
       "Spain      2293\n",
       "Name: country, dtype: int64"
      ]
     },
     "execution_count": 27,
     "metadata": {},
     "output_type": "execute_result"
    }
   ],
   "source": [
    "df_country['country'].value_counts()"
   ]
  },
  {
   "cell_type": "code",
   "execution_count": 28,
   "id": "b3a60a52",
   "metadata": {},
   "outputs": [
    {
     "data": {
      "text/plain": [
       "2     978\n",
       "1     968\n",
       "8     955\n",
       "7     952\n",
       "3     942\n",
       "5     941\n",
       "4     919\n",
       "6     905\n",
       "9     901\n",
       "10    450\n",
       "0     393\n",
       "Name: tenure, dtype: int64"
      ]
     },
     "execution_count": 28,
     "metadata": {},
     "output_type": "execute_result"
    }
   ],
   "source": [
    "df_country['tenure'].value_counts()"
   ]
  },
  {
   "cell_type": "code",
   "execution_count": 29,
   "id": "9ac6d603",
   "metadata": {},
   "outputs": [
    {
     "data": {
      "text/plain": [
       "1    4711\n",
       "2    4288\n",
       "3     248\n",
       "4      57\n",
       "Name: products_number, dtype: int64"
      ]
     },
     "execution_count": 29,
     "metadata": {},
     "output_type": "execute_result"
    }
   ],
   "source": [
    "df_country['products_number'].value_counts()"
   ]
  },
  {
   "cell_type": "code",
   "execution_count": 30,
   "id": "ec5a6f89",
   "metadata": {},
   "outputs": [
    {
     "data": {
      "text/plain": [
       "array([608, 502, 699, 850, 645, 822, 376, 501, 684, 528, 497, 476, 549,\n",
       "       635, 616, 653, 587, 726, 732, 636, 510, 669, 846, 577, 756, 571,\n",
       "       574, 411, 533, 553, 520, 722, 475, 804, 582, 472, 465, 556, 834,\n",
       "       660, 776, 829, 637, 550, 698, 585, 788, 655, 601, 619, 656, 725,\n",
       "       511, 742, 687, 555, 603, 751, 581, 735, 661, 675, 738, 813, 657,\n",
       "       604, 664, 678, 757, 416, 665, 777, 543, 506, 493, 652, 750, 729,\n",
       "       646, 647, 808, 524, 730, 515, 773, 814, 710, 413, 623, 670, 622,\n",
       "       785, 605, 479, 685, 538, 562, 721, 628, 668, 828, 674, 625, 432,\n",
       "       758, 795, 686, 789, 589, 461, 579, 663, 682, 691, 485, 650, 754,\n",
       "       535, 716, 539, 614, 706, 586, 631, 717, 800, 683, 704, 615, 667,\n",
       "       480, 578, 512, 484, 597, 778, 514, 525, 715, 580, 807, 759, 516,\n",
       "       711, 618, 643, 671, 689, 620, 676, 572, 695, 592, 567, 547, 594,\n",
       "       673, 610, 767, 763, 712, 703, 662, 659, 523, 772, 545, 634, 739,\n",
       "       771, 681, 696, 766, 727, 693, 557, 531, 651, 791, 733, 811, 714,\n",
       "       782, 799, 602, 744, 588, 747, 583, 627, 694, 731, 629, 438, 642,\n",
       "       806, 474, 559, 429, 680, 749, 584, 626, 649, 805, 718, 840, 630,\n",
       "       654, 762, 568, 613, 522, 737, 648, 443, 640, 540, 460, 593, 801,\n",
       "       611, 802, 769, 745, 483, 690, 492, 705, 560, 709, 544, 752, 701,\n",
       "       537, 487, 596, 702, 486, 724, 548, 464, 790, 534, 748, 494, 590,\n",
       "       468, 509, 818, 816, 536, 753, 774, 621, 569, 658, 798, 641, 542,\n",
       "       692, 591, 639, 765, 570, 638, 599, 632, 734, 793, 779, 707, 527,\n",
       "       519, 564, 833, 504, 842, 508, 417, 607, 761, 848, 546, 439, 755,\n",
       "       760, 526, 713, 700, 566, 495, 688, 612, 477, 427, 819, 720, 459,\n",
       "       498, 503, 624, 529, 482, 796, 445, 746, 786, 554, 787, 499, 606,\n",
       "       844, 450, 490, 815, 838, 803, 736, 633, 600, 679, 517, 792, 743,\n",
       "       488, 598, 421, 708, 507, 505, 741, 456, 435, 561, 518, 565, 521,\n",
       "       728, 672, 784, 552, 609, 764, 775, 697, 563, 723, 551, 444, 719,\n",
       "       496, 541, 830, 812, 677, 420, 617, 809, 500, 826, 434, 513, 797,\n",
       "       363, 399, 463, 780, 452, 575, 666, 837, 794, 824, 823, 781, 849,\n",
       "       431, 489, 457, 768, 831, 359, 820, 573, 558, 817, 595, 449, 576,\n",
       "       440, 415, 821, 530, 350, 446, 770, 425, 740, 481, 428, 783, 358,\n",
       "       644, 845, 841, 451, 458, 469, 423, 404, 836, 473, 835, 478, 466,\n",
       "       351, 827, 843, 365, 532, 414, 453, 471, 401, 491, 810, 832, 470,\n",
       "       447, 422, 825, 430, 436, 426, 408, 847, 839, 418, 437, 410, 454,\n",
       "       407, 455, 462, 386, 405, 383, 395, 467, 433, 442, 424, 448, 367,\n",
       "       412, 382, 373, 419], dtype=int64)"
      ]
     },
     "execution_count": 30,
     "metadata": {},
     "output_type": "execute_result"
    }
   ],
   "source": [
    "df_country['credit_score'].unique()"
   ]
  },
  {
   "cell_type": "code",
   "execution_count": 31,
   "id": "0163aaf9",
   "metadata": {},
   "outputs": [
    {
     "data": {
      "text/html": [
       "<div>\n",
       "<style scoped>\n",
       "    .dataframe tbody tr th:only-of-type {\n",
       "        vertical-align: middle;\n",
       "    }\n",
       "\n",
       "    .dataframe tbody tr th {\n",
       "        vertical-align: top;\n",
       "    }\n",
       "\n",
       "    .dataframe thead th {\n",
       "        text-align: right;\n",
       "    }\n",
       "</style>\n",
       "<table border=\"1\" class=\"dataframe\">\n",
       "  <thead>\n",
       "    <tr style=\"text-align: right;\">\n",
       "      <th></th>\n",
       "      <th>customer_id</th>\n",
       "      <th>credit_score</th>\n",
       "      <th>tenure</th>\n",
       "      <th>products_number</th>\n",
       "      <th>credit_card</th>\n",
       "      <th>active_member</th>\n",
       "      <th>country</th>\n",
       "      <th>age</th>\n",
       "      <th>gender</th>\n",
       "      <th>balance</th>\n",
       "      <th>churn</th>\n",
       "      <th>estimated_salary</th>\n",
       "    </tr>\n",
       "  </thead>\n",
       "  <tbody>\n",
       "    <tr>\n",
       "      <th>1</th>\n",
       "      <td>15647311</td>\n",
       "      <td>608</td>\n",
       "      <td>1</td>\n",
       "      <td>1</td>\n",
       "      <td>0</td>\n",
       "      <td>1</td>\n",
       "      <td>Spain</td>\n",
       "      <td>41</td>\n",
       "      <td>Female</td>\n",
       "      <td>83807.86</td>\n",
       "      <td>0</td>\n",
       "      <td>0.00</td>\n",
       "    </tr>\n",
       "    <tr>\n",
       "      <th>2</th>\n",
       "      <td>15619304</td>\n",
       "      <td>502</td>\n",
       "      <td>8</td>\n",
       "      <td>3</td>\n",
       "      <td>1</td>\n",
       "      <td>0</td>\n",
       "      <td>France</td>\n",
       "      <td>42</td>\n",
       "      <td>Female</td>\n",
       "      <td>159660.80</td>\n",
       "      <td>1</td>\n",
       "      <td>0.00</td>\n",
       "    </tr>\n",
       "    <tr>\n",
       "      <th>3</th>\n",
       "      <td>15701354</td>\n",
       "      <td>699</td>\n",
       "      <td>1</td>\n",
       "      <td>2</td>\n",
       "      <td>0</td>\n",
       "      <td>0</td>\n",
       "      <td>France</td>\n",
       "      <td>39</td>\n",
       "      <td>Female</td>\n",
       "      <td>0.00</td>\n",
       "      <td>0</td>\n",
       "      <td>0.00</td>\n",
       "    </tr>\n",
       "    <tr>\n",
       "      <th>4</th>\n",
       "      <td>15737888</td>\n",
       "      <td>850</td>\n",
       "      <td>2</td>\n",
       "      <td>1</td>\n",
       "      <td>1</td>\n",
       "      <td>1</td>\n",
       "      <td>Spain</td>\n",
       "      <td>43</td>\n",
       "      <td>Female</td>\n",
       "      <td>125510.82</td>\n",
       "      <td>0</td>\n",
       "      <td>0.00</td>\n",
       "    </tr>\n",
       "    <tr>\n",
       "      <th>5</th>\n",
       "      <td>15574012</td>\n",
       "      <td>645</td>\n",
       "      <td>8</td>\n",
       "      <td>2</td>\n",
       "      <td>1</td>\n",
       "      <td>0</td>\n",
       "      <td>Spain</td>\n",
       "      <td>44</td>\n",
       "      <td>Male</td>\n",
       "      <td>113755.78</td>\n",
       "      <td>1</td>\n",
       "      <td>0.00</td>\n",
       "    </tr>\n",
       "    <tr>\n",
       "      <th>6</th>\n",
       "      <td>15592531</td>\n",
       "      <td>822</td>\n",
       "      <td>7</td>\n",
       "      <td>2</td>\n",
       "      <td>1</td>\n",
       "      <td>1</td>\n",
       "      <td>France</td>\n",
       "      <td>50</td>\n",
       "      <td>Male</td>\n",
       "      <td>0.00</td>\n",
       "      <td>0</td>\n",
       "      <td>0.00</td>\n",
       "    </tr>\n",
       "    <tr>\n",
       "      <th>7</th>\n",
       "      <td>15656148</td>\n",
       "      <td>376</td>\n",
       "      <td>4</td>\n",
       "      <td>4</td>\n",
       "      <td>1</td>\n",
       "      <td>0</td>\n",
       "      <td>Germany</td>\n",
       "      <td>29</td>\n",
       "      <td>Female</td>\n",
       "      <td>115046.74</td>\n",
       "      <td>1</td>\n",
       "      <td>0.00</td>\n",
       "    </tr>\n",
       "    <tr>\n",
       "      <th>8</th>\n",
       "      <td>15792365</td>\n",
       "      <td>501</td>\n",
       "      <td>4</td>\n",
       "      <td>2</td>\n",
       "      <td>0</td>\n",
       "      <td>1</td>\n",
       "      <td>France</td>\n",
       "      <td>44</td>\n",
       "      <td>Male</td>\n",
       "      <td>142051.07</td>\n",
       "      <td>0</td>\n",
       "      <td>0.00</td>\n",
       "    </tr>\n",
       "    <tr>\n",
       "      <th>9</th>\n",
       "      <td>15592389</td>\n",
       "      <td>684</td>\n",
       "      <td>2</td>\n",
       "      <td>1</td>\n",
       "      <td>1</td>\n",
       "      <td>1</td>\n",
       "      <td>France</td>\n",
       "      <td>27</td>\n",
       "      <td>Male</td>\n",
       "      <td>134603.88</td>\n",
       "      <td>0</td>\n",
       "      <td>0.00</td>\n",
       "    </tr>\n",
       "    <tr>\n",
       "      <th>10</th>\n",
       "      <td>15767821</td>\n",
       "      <td>528</td>\n",
       "      <td>6</td>\n",
       "      <td>2</td>\n",
       "      <td>0</td>\n",
       "      <td>0</td>\n",
       "      <td>France</td>\n",
       "      <td>31</td>\n",
       "      <td>Male</td>\n",
       "      <td>102016.72</td>\n",
       "      <td>0</td>\n",
       "      <td>0.00</td>\n",
       "    </tr>\n",
       "    <tr>\n",
       "      <th>11</th>\n",
       "      <td>15737173</td>\n",
       "      <td>497</td>\n",
       "      <td>3</td>\n",
       "      <td>2</td>\n",
       "      <td>1</td>\n",
       "      <td>0</td>\n",
       "      <td>Spain</td>\n",
       "      <td>24</td>\n",
       "      <td>Male</td>\n",
       "      <td>0.00</td>\n",
       "      <td>0</td>\n",
       "      <td>0.00</td>\n",
       "    </tr>\n",
       "    <tr>\n",
       "      <th>12</th>\n",
       "      <td>15632264</td>\n",
       "      <td>476</td>\n",
       "      <td>10</td>\n",
       "      <td>2</td>\n",
       "      <td>1</td>\n",
       "      <td>0</td>\n",
       "      <td>France</td>\n",
       "      <td>34</td>\n",
       "      <td>Female</td>\n",
       "      <td>0.00</td>\n",
       "      <td>0</td>\n",
       "      <td>0.00</td>\n",
       "    </tr>\n",
       "    <tr>\n",
       "      <th>13</th>\n",
       "      <td>15691483</td>\n",
       "      <td>549</td>\n",
       "      <td>5</td>\n",
       "      <td>2</td>\n",
       "      <td>0</td>\n",
       "      <td>0</td>\n",
       "      <td>France</td>\n",
       "      <td>25</td>\n",
       "      <td>Female</td>\n",
       "      <td>0.00</td>\n",
       "      <td>0</td>\n",
       "      <td>190857.79</td>\n",
       "    </tr>\n",
       "    <tr>\n",
       "      <th>14</th>\n",
       "      <td>15600882</td>\n",
       "      <td>635</td>\n",
       "      <td>7</td>\n",
       "      <td>2</td>\n",
       "      <td>1</td>\n",
       "      <td>1</td>\n",
       "      <td>Spain</td>\n",
       "      <td>35</td>\n",
       "      <td>Female</td>\n",
       "      <td>0.00</td>\n",
       "      <td>0</td>\n",
       "      <td>0.00</td>\n",
       "    </tr>\n",
       "    <tr>\n",
       "      <th>15</th>\n",
       "      <td>15643966</td>\n",
       "      <td>616</td>\n",
       "      <td>3</td>\n",
       "      <td>2</td>\n",
       "      <td>0</td>\n",
       "      <td>1</td>\n",
       "      <td>Germany</td>\n",
       "      <td>45</td>\n",
       "      <td>Male</td>\n",
       "      <td>143129.41</td>\n",
       "      <td>0</td>\n",
       "      <td>0.00</td>\n",
       "    </tr>\n",
       "  </tbody>\n",
       "</table>\n",
       "</div>"
      ],
      "text/plain": [
       "    customer_id  credit_score  tenure  products_number  credit_card  \\\n",
       "1      15647311           608       1                1            0   \n",
       "2      15619304           502       8                3            1   \n",
       "3      15701354           699       1                2            0   \n",
       "4      15737888           850       2                1            1   \n",
       "5      15574012           645       8                2            1   \n",
       "6      15592531           822       7                2            1   \n",
       "7      15656148           376       4                4            1   \n",
       "8      15792365           501       4                2            0   \n",
       "9      15592389           684       2                1            1   \n",
       "10     15767821           528       6                2            0   \n",
       "11     15737173           497       3                2            1   \n",
       "12     15632264           476      10                2            1   \n",
       "13     15691483           549       5                2            0   \n",
       "14     15600882           635       7                2            1   \n",
       "15     15643966           616       3                2            0   \n",
       "\n",
       "    active_member  country  age  gender    balance  churn  estimated_salary  \n",
       "1               1    Spain   41  Female   83807.86      0              0.00  \n",
       "2               0   France   42  Female  159660.80      1              0.00  \n",
       "3               0   France   39  Female       0.00      0              0.00  \n",
       "4               1    Spain   43  Female  125510.82      0              0.00  \n",
       "5               0    Spain   44    Male  113755.78      1              0.00  \n",
       "6               1   France   50    Male       0.00      0              0.00  \n",
       "7               0  Germany   29  Female  115046.74      1              0.00  \n",
       "8               1   France   44    Male  142051.07      0              0.00  \n",
       "9               1   France   27    Male  134603.88      0              0.00  \n",
       "10              0   France   31    Male  102016.72      0              0.00  \n",
       "11              0    Spain   24    Male       0.00      0              0.00  \n",
       "12              0   France   34  Female       0.00      0              0.00  \n",
       "13              0   France   25  Female       0.00      0         190857.79  \n",
       "14              1    Spain   35  Female       0.00      0              0.00  \n",
       "15              1  Germany   45    Male  143129.41      0              0.00  "
      ]
     },
     "execution_count": 31,
     "metadata": {},
     "output_type": "execute_result"
    }
   ],
   "source": [
    "df_country.head(15)"
   ]
  },
  {
   "cell_type": "code",
   "execution_count": 32,
   "id": "a83b3f88",
   "metadata": {},
   "outputs": [
    {
     "data": {
      "text/plain": [
       "(9304, 12)"
      ]
     },
     "execution_count": 32,
     "metadata": {},
     "output_type": "execute_result"
    }
   ],
   "source": [
    "df_country.shape"
   ]
  },
  {
   "cell_type": "code",
   "execution_count": 33,
   "id": "ea75180b",
   "metadata": {},
   "outputs": [],
   "source": [
    "df_country.to_csv('Case_Bank_Customer_Final.csv', sep = ',', index = False, encoding = 'utf-8')"
   ]
  }
 ],
 "metadata": {
  "kernelspec": {
   "display_name": "Python 3 (ipykernel)",
   "language": "python",
   "name": "python3"
  },
  "language_info": {
   "codemirror_mode": {
    "name": "ipython",
    "version": 3
   },
   "file_extension": ".py",
   "mimetype": "text/x-python",
   "name": "python",
   "nbconvert_exporter": "python",
   "pygments_lexer": "ipython3",
   "version": "3.9.13"
  }
 },
 "nbformat": 4,
 "nbformat_minor": 5
}
